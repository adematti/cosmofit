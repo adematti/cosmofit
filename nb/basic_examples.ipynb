{
 "cells": [
  {
   "cell_type": "markdown",
   "id": "974ae092",
   "metadata": {},
   "source": [
    "# Basic examples\n",
    "\n",
    "In this notebook we will show how to fit a model to data, in the **cosmofit** framework.\n",
    "You need to have installed **cosmofit** with:\n",
    "```\n",
    "python -m pip install git+https://github.com/adematti/cosmofit#egg=cosmofit[profilers,samplers]\n",
    "```"
   ]
  },
  {
   "cell_type": "markdown",
   "id": "df7ccd4a",
   "metadata": {},
   "source": [
    "## Model\n",
    "Let us define a simple, affine model."
   ]
  },
  {
   "cell_type": "code",
   "execution_count": 1,
   "id": "3c10a17e",
   "metadata": {},
   "outputs": [],
   "source": [
    "from cosmofit.base import BaseCalculator\n",
    "\n",
    "\n",
    "class AffineModel(BaseCalculator):  # all calculators should inherit from BaseCalculator\n",
    "\n",
    "    # Model parameters; those can also be declared in a yaml file\n",
    "    params = {'a': {'value': 0., 'prior': {'dist': 'norm', 'loc': 0., 'scale': 10.}},\n",
    "              'b': {'value': 0., 'prior': {'dist': 'norm', 'loc': 0., 'scale': 10.}}}\n",
    "    \n",
    "    def __init__(self, x=None):\n",
    "        self.x = x\n",
    "        self.requires = {}  # no requirement\n",
    "    \n",
    "    def run(self, a=0., b=0.):\n",
    "        self.y = a * self.x + b  # simple, affine model\n",
    "    \n",
    "    # This is only needed for emulation\n",
    "    def __getstate__(self):\n",
    "        return {'x': self.x, 'y': self.y}  # dictionary of Python base types and numpy arrays"
   ]
  },
  {
   "cell_type": "markdown",
   "id": "92c7a797",
   "metadata": {},
   "source": [
    "## Likelihood\n",
    "\n",
    "Let us define a Gaussian likelihood."
   ]
  },
  {
   "cell_type": "code",
   "execution_count": 2,
   "id": "f9fafc99",
   "metadata": {},
   "outputs": [],
   "source": [
    "import numpy as np\n",
    "\n",
    "class Likelihood(BaseCalculator):  # all calculators should inherit from BaseCalculator\n",
    "    \n",
    "    def __init__(self):\n",
    "        # Let us generate some fake data\n",
    "        self.x = np.linspace(0., 1., 10)\n",
    "        mean = np.zeros_like(self.x)\n",
    "        cov = np.eye(len(self.x))\n",
    "        self.precision = np.linalg.inv(cov)\n",
    "        rng = np.random.RandomState(seed=42)\n",
    "        self.y = rng.multivariate_normal(mean, cov)\n",
    "        # Requirements: name: {'class': ..., 'init': ...}\n",
    "        self.requires = {'theory': {'class': 'AffineModel', 'init': {'x': self.x}}}\n",
    "    \n",
    "    def run(self):\n",
    "        diff = self.y - self.theory.y  # reauirements are accessed through .name\n",
    "        self.loglikelihood = -0.5 * diff.dot(self.precision).T.dot(diff)  # chi-square"
   ]
  },
  {
   "cell_type": "markdown",
   "id": "4435cbfe",
   "metadata": {},
   "source": [
    "## Pipeline\n",
    "Let us build up our likelihood pipeline, that connects the two calculators above."
   ]
  },
  {
   "cell_type": "code",
   "execution_count": 3,
   "id": "b58e02ed",
   "metadata": {},
   "outputs": [
    {
     "name": "stdout",
     "output_type": "stream",
     "text": [
      "[000000.01] [0/1] 07-29 18:55  LikelihoodPipeline        INFO     Found calculators [Likelihood(like), AffineModel(theory)].\n",
      "[000000.01] [0/1] 07-29 18:55  LikelihoodPipeline        INFO     Found end calculators [Likelihood(like)].\n",
      "[000000.01] [0/1] 07-29 18:55  LikelihoodPipeline        INFO     Found likelihood like.\n"
     ]
    }
   ],
   "source": [
    "from cosmofit import LikelihoodPipeline, setup_logging\n",
    "\n",
    "setup_logging()  # set up logging\n",
    "\n",
    "config = {}\n",
    "# We give the likelihood a name, 'like'\n",
    "# No need to specify other parameters for AffineModel, so no need to mention it\n",
    "config['like'] = {'class': Likelihood}\n",
    "likelihood = LikelihoodPipeline(config)"
   ]
  },
  {
   "cell_type": "markdown",
   "id": "464cfd76",
   "metadata": {},
   "source": [
    "## Fit\n",
    "Let us perform some likelihood (actually posterior, including parameter priors) profiling."
   ]
  },
  {
   "cell_type": "code",
   "execution_count": 4,
   "id": "4fc782b3",
   "metadata": {},
   "outputs": [
    {
     "name": "stdout",
     "output_type": "stream",
     "text": [
      "[000000.03] [0/1] 07-29 18:55  MinuitProfiler            INFO     Varied parameters: ['a', 'b'].\n"
     ]
    }
   ],
   "source": [
    "from cosmofit.profilers import MinuitProfiler\n",
    "\n",
    "# Seed used to decide on starting point\n",
    "profiler = MinuitProfiler(likelihood, seed=42)\n",
    "# Find best fit, starting from 5 different starting points\n",
    "# NOTE: With MPI, these runs are performed in parallel\n",
    "profiler.maximize(niterations=5)"
   ]
  },
  {
   "cell_type": "code",
   "execution_count": 5,
   "id": "5b9af343",
   "metadata": {},
   "outputs": [
    {
     "name": "stdout",
     "output_type": "stream",
     "text": [
      "+--------------+--------+---------+-------+\n",
      "| chi2 = 17.59 | varied | bestfit | error |\n",
      "+--------------+--------+---------+-------+\n",
      "|      a       |  True  |  -0.06  | 0.98  |\n",
      "|      b       |  True  |  0.48   | 0.58  |\n",
      "+--------------+--------+---------+-------+\n"
     ]
    }
   ],
   "source": [
    "print(profiler.profiles.to_stats(tablefmt='pretty'))"
   ]
  },
  {
   "cell_type": "code",
   "execution_count": 6,
   "id": "f06eb94f",
   "metadata": {},
   "outputs": [
    {
     "data": {
      "text/plain": [
       "array([<AxesSubplot:ylabel='a'>, <AxesSubplot:ylabel='b'>], dtype=object)"
      ]
     },
     "execution_count": 6,
     "metadata": {},
     "output_type": "execute_result"
    },
    {
     "data": {
      "image/png": "[encoded data removed]",
      "text/plain": [
       "<Figure size 360x432 with 2 Axes>"
      ]
     },
     "metadata": {
      "needs_background": "light"
     },
     "output_type": "display_data"
    }
   ],
   "source": [
    "from cosmofit.samples import plotting\n",
    "# Compare different best fits: all good, no convergence issues!\n",
    "plotting.plot_aligned_stacked(profiler.profiles, truths=[0., 0.])"
   ]
  },
  {
   "cell_type": "code",
   "execution_count": 7,
   "id": "eefe2a85",
   "metadata": {},
   "outputs": [
    {
     "name": "stdout",
     "output_type": "stream",
     "text": [
      "\\begin{tabular}{lllll}\n",
      "\\hline\n",
      " $\\chi^{2} = 17.59$   & varied   & bestfit   & error   & interval             \\\\\n",
      "\\hline\n",
      " a                    & True     & $-0.06$   & $0.98$  & ${}_{-0.98}^{+0.98}$ \\\\\n",
      " b                    & True     & $0.48$    & $0.58$  & ${}_{-0.58}^{+0.58}$ \\\\\n",
      "\\hline\n",
      "\\end{tabular}\n"
     ]
    }
   ],
   "source": [
    "# Compute \\Delta \\chi^{2} = cl^2 = 1 interval for the best best of above best fits\n",
    "profiler.interval(cl=1)\n",
    "print(profiler.profiles.to_stats(tablefmt='latex_raw'))"
   ]
  },
  {
   "cell_type": "code",
   "execution_count": 8,
   "id": "14b6e453",
   "metadata": {},
   "outputs": [
    {
     "data": {
      "image/png": "[encoded data removed]",
      "text/plain": [
       "<Figure size 648x216 with 2 Axes>"
      ]
     },
     "metadata": {
      "needs_background": "light"
     },
     "output_type": "display_data"
    }
   ],
   "source": [
    "# Profile posterior up to cl = 3 sigmas\n",
    "profiler.profile(cl=3)\n",
    "# And plot, removing \\chi^{2} at best fit\n",
    "plotting.plot_profile(profiler.profiles, offsets=-2 * profiler.profiles.bestfit.logposterior.max())"
   ]
  },
  {
   "cell_type": "markdown",
   "id": "5ff6cbdc",
   "metadata": {},
   "source": [
    "## Sample\n",
    "Let us draw MC samples of the likelihood (actually posterior, including parameter priors)."
   ]
  },
  {
   "cell_type": "code",
   "execution_count": 9,
   "id": "07f5806e",
   "metadata": {},
   "outputs": [
    {
     "name": "stdout",
     "output_type": "stream",
     "text": [
      "[000002.60] [0/1] 07-29 18:55  EmceeSampler              INFO     Varied parameters: ['a', 'b'].\n",
      "[000004.34] [0/1] 07-29 18:55  EmceeSampler              INFO     Diagnostics:\n",
      "[000004.35] [0/1] 07-29 18:55  EmceeSampler              INFO     - max eigen Gelman-Rubin - 1 is 0.0878 > 0.03.\n",
      "[000004.36] [0/1] 07-29 18:55  EmceeSampler              INFO     - max diag Gelman-Rubin - 1 is 0.0917.\n",
      "[000004.38] [0/1] 07-29 18:55  EmceeSampler              INFO     - max diag Gelman-Rubin - 1 at 1.0 sigmas is 0.512.\n",
      "[000004.38] [0/1] 07-29 18:55  EmceeSampler              INFO     - max Geweke is 0.329.\n",
      "[000004.40] [0/1] 07-29 18:55  EmceeSampler              INFO     - max integrated autocorrelation time is 12.4.\n",
      "[000005.81] [0/1] 07-29 18:55  EmceeSampler              INFO     Diagnostics:\n",
      "[000005.81] [0/1] 07-29 18:55  EmceeSampler              INFO     - max eigen Gelman-Rubin - 1 is 0.0535 > 0.03.\n",
      "[000005.82] [0/1] 07-29 18:55  EmceeSampler              INFO     - max diag Gelman-Rubin - 1 is 0.0346.\n",
      "[000005.84] [0/1] 07-29 18:55  EmceeSampler              INFO     - max diag Gelman-Rubin - 1 at 1.0 sigmas is 0.0743.\n",
      "[000005.85] [0/1] 07-29 18:55  EmceeSampler              INFO     - max Geweke is 0.44.\n",
      "[000005.86] [0/1] 07-29 18:55  EmceeSampler              INFO     - max integrated autocorrelation time is 16.3.\n",
      "[000005.86] [0/1] 07-29 18:55  EmceeSampler              INFO     - max variation of integrated autocorrelation time is 0.238.\n",
      "[000007.06] [0/1] 07-29 18:55  EmceeSampler              INFO     Diagnostics:\n",
      "[000007.06] [0/1] 07-29 18:55  EmceeSampler              INFO     - max eigen Gelman-Rubin - 1 is 0.024 < 0.03.\n",
      "[000007.07] [0/1] 07-29 18:55  EmceeSampler              INFO     - max diag Gelman-Rubin - 1 is 0.0121.\n",
      "[000007.10] [0/1] 07-29 18:55  EmceeSampler              INFO     - max diag Gelman-Rubin - 1 at 1.0 sigmas is 0.0208.\n",
      "[000007.10] [0/1] 07-29 18:55  EmceeSampler              INFO     - max Geweke is 0.631.\n",
      "[000007.11] [0/1] 07-29 18:55  EmceeSampler              INFO     - max integrated autocorrelation time is 20.6.\n",
      "[000007.11] [0/1] 07-29 18:55  EmceeSampler              INFO     - max variation of integrated autocorrelation time is 0.355.\n",
      "[000008.36] [0/1] 07-29 18:55  EmceeSampler              INFO     Diagnostics:\n",
      "[000008.37] [0/1] 07-29 18:55  EmceeSampler              INFO     - max eigen Gelman-Rubin - 1 is 0.0391 > 0.03.\n",
      "[000008.39] [0/1] 07-29 18:55  EmceeSampler              INFO     - max diag Gelman-Rubin - 1 is 0.0194.\n",
      "[000008.41] [0/1] 07-29 18:55  EmceeSampler              INFO     - max diag Gelman-Rubin - 1 at 1.0 sigmas is 0.0196.\n",
      "[000008.42] [0/1] 07-29 18:55  EmceeSampler              INFO     - max Geweke is 0.316.\n",
      "[000008.43] [0/1] 07-29 18:55  EmceeSampler              INFO     - max integrated autocorrelation time is 22.1.\n",
      "[000008.43] [0/1] 07-29 18:55  EmceeSampler              INFO     - max variation of integrated autocorrelation time is 0.0686.\n",
      "[000009.76] [0/1] 07-29 18:55  EmceeSampler              INFO     Diagnostics:\n",
      "[000009.77] [0/1] 07-29 18:55  EmceeSampler              INFO     - max eigen Gelman-Rubin - 1 is 0.0306 > 0.03.\n",
      "[000009.78] [0/1] 07-29 18:55  EmceeSampler              INFO     - max diag Gelman-Rubin - 1 is 0.0165.\n",
      "[000009.81] [0/1] 07-29 18:55  EmceeSampler              INFO     - max diag Gelman-Rubin - 1 at 1.0 sigmas is 0.028.\n",
      "[000009.81] [0/1] 07-29 18:55  EmceeSampler              INFO     - max Geweke is 0.164.\n",
      "[000009.83] [0/1] 07-29 18:55  EmceeSampler              INFO     - max integrated autocorrelation time is 21.4.\n",
      "[000009.83] [0/1] 07-29 18:55  EmceeSampler              INFO     - max variation of integrated autocorrelation time is 0.0616.\n",
      "[000011.02] [0/1] 07-29 18:55  EmceeSampler              INFO     Diagnostics:\n",
      "[000011.03] [0/1] 07-29 18:55  EmceeSampler              INFO     - max eigen Gelman-Rubin - 1 is 0.0059 < 0.03.\n",
      "[000011.04] [0/1] 07-29 18:55  EmceeSampler              INFO     - max diag Gelman-Rubin - 1 is 0.00433.\n",
      "[000011.06] [0/1] 07-29 18:55  EmceeSampler              INFO     - max diag Gelman-Rubin - 1 at 1.0 sigmas is 0.024.\n",
      "[000011.07] [0/1] 07-29 18:55  EmceeSampler              INFO     - max Geweke is 0.304.\n",
      "[000011.08] [0/1] 07-29 18:55  EmceeSampler              INFO     - max integrated autocorrelation time is 21.5 (reliable).\n",
      "[000011.08] [0/1] 07-29 18:55  EmceeSampler              INFO     - max variation of integrated autocorrelation time is 0.0494.\n",
      "[000012.26] [0/1] 07-29 18:55  EmceeSampler              INFO     Diagnostics:\n",
      "[000012.27] [0/1] 07-29 18:55  EmceeSampler              INFO     - max eigen Gelman-Rubin - 1 is 0.0101 < 0.03.\n",
      "[000012.28] [0/1] 07-29 18:55  EmceeSampler              INFO     - max diag Gelman-Rubin - 1 is 0.00679.\n",
      "[000012.31] [0/1] 07-29 18:55  EmceeSampler              INFO     - max diag Gelman-Rubin - 1 at 1.0 sigmas is 0.0386.\n",
      "[000012.32] [0/1] 07-29 18:55  EmceeSampler              INFO     - max Geweke is 0.199.\n",
      "[000012.33] [0/1] 07-29 18:55  EmceeSampler              INFO     - max integrated autocorrelation time is 21.8 (reliable).\n",
      "[000012.33] [0/1] 07-29 18:55  EmceeSampler              INFO     - max variation of integrated autocorrelation time is 0.0168.\n"
     ]
    }
   ],
   "source": [
    "from cosmofit.samplers import EmceeSampler\n",
    "\n",
    "# By default are running 1 chain\n",
    "# We can as for me, e.g. chains=2\n",
    "# MPI processes will be evenly split across all the chains\n",
    "sampler = EmceeSampler(likelihood, seed=42, nwalkers=10)\n",
    "# We run samples until convergence, considered reach when Gelman-Rubin (computed over 4 chain subsamples) < 0.03; \n",
    "converged = False\n",
    "while not converged:\n",
    "    sampler.run()\n",
    "    converged = sampler.check(eigen_gr_stop=0.03)"
   ]
  },
  {
   "cell_type": "code",
   "execution_count": 10,
   "id": "151eb7f8",
   "metadata": {},
   "outputs": [
    {
     "name": "stdout",
     "output_type": "stream",
     "text": [
      "+---+--------+------+--------+------+-----------------+-----------------+\n",
      "|   | argmax | mean | median | std  | quantile:1sigma | interval:1sigma |\n",
      "+---+--------+------+--------+------+-----------------+-----------------+\n",
      "| a |  -0.1  | -0.1 |  -0.1  | 1.1  |    -1.0/+1.0    |   -0.92/+1.13   |\n",
      "| b |  0.48  | 0.49 |  0.51  | 0.96 |   -0.60/+0.60   |   -0.53/+0.66   |\n",
      "+---+--------+------+--------+------+-----------------+-----------------+\n"
     ]
    }
   ],
   "source": [
    "# Let's remove burnin and get basic stats\n",
    "chain = sampler.chains[0].remove_burnin(0.5)\n",
    "print(chain.to_stats(tablefmt='pretty'))"
   ]
  },
  {
   "cell_type": "code",
   "execution_count": 11,
   "id": "1fba7540",
   "metadata": {},
   "outputs": [
    {
     "name": "stdout",
     "output_type": "stream",
     "text": [
      "[000012.53] [0/1] 07-29 18:55  numexpr.utils             INFO     NumExpr defaulting to 8 threads.\n",
      "Removed no burn in\n",
      "[000012.82] [0/1] 07-29 18:55  root                      WARNING  fine_bins_2D not large enough for optimal density: a, b\n"
     ]
    },
    {
     "data": {
      "image/png": "[encoded data removed]",
      "text/plain": [
       "<Figure size 288x288 with 3 Axes>"
      ]
     },
     "metadata": {
      "needs_background": "light"
     },
     "output_type": "display_data"
    }
   ],
   "source": [
    "# This actually uses GetDist\n",
    "# chain.to_getdist() will return a getdist.MCSamples object to play further\n",
    "plotting.plot_triangle(chain)"
   ]
  },
  {
   "cell_type": "markdown",
   "id": "40ab8085",
   "metadata": {},
   "source": [
    "## Emulate\n",
    "If our model took years to run, we would likely want to emulate it. Let us try this on this simple model."
   ]
  },
  {
   "cell_type": "code",
   "execution_count": 12,
   "id": "ef859831",
   "metadata": {},
   "outputs": [
    {
     "name": "stdout",
     "output_type": "stream",
     "text": [
      "[000013.35] [0/1] 07-29 18:55  TaylorEmulatorEngine      INFO     Varied parameters: ['a', 'b'].\n",
      "[000013.35] [0/1] 07-29 18:55  TaylorEmulatorEngine      INFO     Found varying {'y'} and fixed ['x'] outputs.\n",
      "[000013.66] [0/1] 07-29 18:55  TaylorEmulatorEngine      INFO     Diagnostics:\n",
      "[000013.66] [0/1] 07-29 18:55  TaylorEmulatorEngine      INFO     - mse of y is 2.82e-35 (square root = 5.31e-18).\n"
     ]
    },
    {
     "data": {
      "text/plain": [
       "array([<AxesSubplot:ylabel='y'>, <AxesSubplot:ylabel='$\\\\Delta$ y'>],\n",
       "      dtype=object)"
      ]
     },
     "execution_count": 12,
     "metadata": {},
     "output_type": "execute_result"
    },
    {
     "data": {
      "image/png": "[encoded data removed]",
      "text/plain": [
       "<Figure size 432x432 with 2 Axes>"
      ]
     },
     "metadata": {
      "needs_background": "light"
     },
     "output_type": "display_data"
    }
   ],
   "source": [
    "from cosmofit.base import BasePipeline\n",
    "from cosmofit.emulators import TaylorEmulatorEngine\n",
    "\n",
    "# We stop the pipeline to the calculator we want to emulate, i.e. theory (AffineModel)\n",
    "pipeline = likelihood.select('theory', type=BasePipeline)\n",
    "# Let us perform a Taylor expansion of order 1\n",
    "# Attributes of AffineModel instance, obtained through theory.__getstate__()\n",
    "# are automatically split between varied and fixed categories\n",
    "emulator = TaylorEmulatorEngine(pipeline, order=1)\n",
    "emulator.set_samples()\n",
    "emulator.fit()\n",
    "emulator.check()  # since model is linear, non-zero mse is just numerical noise\n",
    "emulator.plot()  # plot some theory.y samples, and the difference emulator - model at the bottom; all good!"
   ]
  },
  {
   "cell_type": "code",
   "execution_count": 13,
   "id": "a23a25b0",
   "metadata": {},
   "outputs": [
    {
     "name": "stdout",
     "output_type": "stream",
     "text": [
      "[000013.94] [0/1] 07-29 18:55  TaylorEmulatorEngine      INFO     Saving _tests/emulator.npy.\n",
      "[000013.94] [0/1] 07-29 18:55  TaylorEmulatorEngine      INFO     Saving _tests/emulator.yaml.\n"
     ]
    }
   ],
   "source": [
    "# No dump the emulator to disk\n",
    "import os\n",
    "\n",
    "base_dir = '_tests'\n",
    "fn = os.path.join(base_dir, 'emulator.npy')\n",
    "emulator.save(fn)"
   ]
  },
  {
   "cell_type": "code",
   "execution_count": 14,
   "id": "c29866ff",
   "metadata": {},
   "outputs": [
    {
     "name": "stdout",
     "output_type": "stream",
     "text": [
      "class: AffineModel\n",
      "info: {}\n",
      "init:\n",
      "  x: [0.0, 0.1111111111111111, 0.2222222222222222, 0.3333333333333333, 0.4444444444444444,\n",
      "    0.5555555555555556, 0.6666666666666666, 0.7777777777777777, 0.8888888888888888,\n",
      "    1.0]\n",
      "params:\n",
      "  a:\n",
      "    derived: false\n",
      "    fixed: false\n",
      "    latex: None\n",
      "    prior:\n",
      "      dist: norm\n",
      "      limits: [-.inf, .inf]\n",
      "      loc: 0.0\n",
      "      scale: 10.0\n",
      "    proposal: 10.0\n",
      "    ref:\n",
      "      dist: norm\n",
      "      limits: [-.inf, .inf]\n",
      "      loc: 0.0\n",
      "      scale: 10.0\n",
      "    value: 0.0\n",
      "  b:\n",
      "    derived: false\n",
      "    fixed: false\n",
      "    latex: None\n",
      "    prior:\n",
      "      dist: norm\n",
      "      limits: [-.inf, .inf]\n",
      "      loc: 0.0\n",
      "      scale: 10.0\n",
      "    proposal: 10.0\n",
      "    ref:\n",
      "      dist: norm\n",
      "      limits: [-.inf, .inf]\n",
      "      loc: 0.0\n",
      "      scale: 10.0\n",
      "    value: 0.0\n",
      "\n"
     ]
    }
   ],
   "source": [
    "# A yaml file is exported, which helps recollect the parameters of the emulator\n",
    "# The parameters that have been varied should be specified when using this emulator,\n",
    "# other parameters (fixed) can be removed if necessary\n",
    "with open(fn.replace('.npy', '.yaml')) as file:\n",
    "    print(file.read())"
   ]
  },
  {
   "cell_type": "code",
   "execution_count": 15,
   "id": "f589de3f",
   "metadata": {},
   "outputs": [
    {
     "name": "stdout",
     "output_type": "stream",
     "text": [
      "[000013.97] [0/1] 07-29 18:55  AffineModel               INFO     Loading _tests/emulator.npy.\n",
      "[000013.97] [0/1] 07-29 18:55  PipelineConfig            INFO     Loading config file _tests/emulator.yaml\n",
      "[000014.00] [0/1] 07-29 18:55  LikelihoodPipeline        INFO     Found calculators [Likelihood(like), AffineModel(theory)].\n",
      "[000014.00] [0/1] 07-29 18:55  LikelihoodPipeline        INFO     Found end calculators [Likelihood(like)].\n",
      "[000014.01] [0/1] 07-29 18:55  LikelihoodPipeline        INFO     Found likelihood like.\n"
     ]
    }
   ],
   "source": [
    "# Now let us load our emulator into the pipeline\n",
    "config = {}\n",
    "config['like'] = {'class': Likelihood}\n",
    "config['theory'] = {'class': 'AffineModel', 'load': fn}\n",
    "likelihood = LikelihoodPipeline(config)"
   ]
  },
  {
   "cell_type": "code",
   "execution_count": 16,
   "id": "d884a7c3",
   "metadata": {},
   "outputs": [
    {
     "name": "stdout",
     "output_type": "stream",
     "text": [
      "[000014.04] [0/1] 07-29 18:55  MinuitProfiler            INFO     Varied parameters: ['a', 'b'].\n"
     ]
    },
    {
     "data": {
      "text/plain": [
       "array([<AxesSubplot:ylabel='a'>, <AxesSubplot:ylabel='b'>], dtype=object)"
      ]
     },
     "execution_count": 16,
     "metadata": {},
     "output_type": "execute_result"
    },
    {
     "data": {
      "image/png": "[encoded data removed]",
      "text/plain": [
       "<Figure size 144x432 with 2 Axes>"
      ]
     },
     "metadata": {
      "needs_background": "light"
     },
     "output_type": "display_data"
    }
   ],
   "source": [
    "from cosmofit.profilers import MinuitProfiler\n",
    "\n",
    "profiler2 = MinuitProfiler(likelihood, seed=42)\n",
    "profiler2.maximize(niterations=5)\n",
    "plotting.plot_aligned_stacked([profiler2.profiles, profiler.profiles], truths=[0., 0.])\n",
    "# Fits with the emulator and the model are the same, all good!"
   ]
  }
 ],
 "metadata": {
  "kernelspec": {
   "display_name": "cosmodesi",
   "language": "python",
   "name": "cosmodesi"
  },
  "language_info": {
   "codemirror_mode": {
    "name": "ipython",
    "version": 3
   },
   "file_extension": ".py",
   "mimetype": "text/x-python",
   "name": "python",
   "nbconvert_exporter": "python",
   "pygments_lexer": "ipython3",
   "version": "3.9.12"
  }
 },
 "nbformat": 4,
 "nbformat_minor": 5
}
