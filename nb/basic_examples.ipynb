{
 "cells": [
  {
   "cell_type": "markdown",
   "id": "974ae092",
   "metadata": {},
   "source": [
    "# Basic examples\n",
    "\n",
    "In this notebook we will show how to fit a model to data, in the **cosmofit** framework.\n",
    "You need to have installed **cosmofit** with:\n",
    "```\n",
    "python -m pip install git+https://github.com/adematti/cosmofit#egg=cosmofit[profilers,samplers]\n",
    "```"
   ]
  },
  {
   "cell_type": "markdown",
   "id": "df7ccd4a",
   "metadata": {},
   "source": [
    "## Model\n",
    "Let us define a simple, affine model."
   ]
  },
  {
   "cell_type": "code",
   "execution_count": 1,
   "id": "3c10a17e",
   "metadata": {},
   "outputs": [],
   "source": [
    "from cosmofit.base import BaseCalculator\n",
    "\n",
    "\n",
    "class AffineModel(BaseCalculator):  # all calculators should inherit from BaseCalculator\n",
    "\n",
    "    # Model parameters; those can also be declared in a yaml file\n",
    "    params = {'a': {'value': 0., 'prior': {'dist': 'norm', 'loc': 0., 'scale': 10.}},\n",
    "              'b': {'value': 0., 'prior': {'dist': 'norm', 'loc': 0., 'scale': 10.}}}\n",
    "    \n",
    "    def __init__(self, x=None):\n",
    "        self.x = x\n",
    "        self.requires = {}  # no requirement\n",
    "    \n",
    "    def run(self, a=0., b=0.):\n",
    "        self.y = a * self.x + b  # simple, affine model\n",
    "    \n",
    "    # This is only needed for emulation\n",
    "    def __getstate__(self):\n",
    "        return {'x': self.x, 'y': self.y}  # dictionary of Python base types and numpy arrays"
   ]
  },
  {
   "cell_type": "markdown",
   "id": "92c7a797",
   "metadata": {},
   "source": [
    "## Likelihood\n",
    "\n",
    "Let us define a Gaussian likelihood."
   ]
  },
  {
   "cell_type": "code",
   "execution_count": 2,
   "id": "f9fafc99",
   "metadata": {},
   "outputs": [],
   "source": [
    "import numpy as np\n",
    "\n",
    "class Likelihood(BaseCalculator):  # all calculators should inherit from BaseCalculator\n",
    "    \n",
    "    def __init__(self):\n",
    "        # Let us generate some fake data\n",
    "        self.x = np.linspace(0., 1., 10)\n",
    "        mean = np.zeros_like(self.x)\n",
    "        self.covariance = np.eye(len(self.x))\n",
    "        self.precision = np.linalg.inv(self.covariance)\n",
    "        rng = np.random.RandomState(seed=42)\n",
    "        self.y = rng.multivariate_normal(mean, self.covariance)\n",
    "        # Requirements: name: {'class': ..., 'init': ...}\n",
    "        self.requires = {'theory': {'class': 'AffineModel', 'init': {'x': self.x}}}\n",
    "    \n",
    "    @property\n",
    "    def flatdiff(self):\n",
    "        return self.y - self.theory.y  # requirements are accessed through .name\n",
    "    \n",
    "    def run(self):\n",
    "        self.loglikelihood = -0.5 * self.flatdiff.dot(self.precision).dot(self.flatdiff)  # this attribute must be named loglikelihood"
   ]
  },
  {
   "cell_type": "markdown",
   "id": "4435cbfe",
   "metadata": {},
   "source": [
    "## Pipeline\n",
    "Let us build up our likelihood pipeline, that connects the two calculators above."
   ]
  },
  {
   "cell_type": "code",
   "execution_count": 3,
   "id": "b58e02ed",
   "metadata": {},
   "outputs": [
    {
     "name": "stdout",
     "output_type": "stream",
     "text": [
      "[000000.02] [0/1] 09-01 16:49  LikelihoodPipeline        INFO     Found calculators [Likelihood(like), AffineModel(theory)].\n",
      "[000000.02] [0/1] 09-01 16:49  LikelihoodPipeline        INFO     Found end calculators [Likelihood(like)].\n",
      "[000000.03] [0/1] 09-01 16:49  LikelihoodPipeline        INFO     Found likelihood like.\n"
     ]
    }
   ],
   "source": [
    "from cosmofit import LikelihoodPipeline, setup_logging\n",
    "\n",
    "setup_logging()  # set up logging\n",
    "\n",
    "config = {}\n",
    "# We give the likelihood a name, 'like'\n",
    "# No need to specify other parameters for AffineModel, so no need to mention it\n",
    "config['like'] = {'class': Likelihood}\n",
    "likelihood = LikelihoodPipeline(config)"
   ]
  },
  {
   "cell_type": "markdown",
   "id": "464cfd76",
   "metadata": {},
   "source": [
    "## Fit\n",
    "Let us perform some likelihood (actually posterior, including parameter priors) profiling."
   ]
  },
  {
   "cell_type": "code",
   "execution_count": 4,
   "id": "4fc782b3",
   "metadata": {},
   "outputs": [
    {
     "name": "stdout",
     "output_type": "stream",
     "text": [
      "[000000.13] [0/1] 09-01 16:49  MinuitProfiler            INFO     Varied parameters: ['a', 'b'].\n"
     ]
    }
   ],
   "source": [
    "from cosmofit.profilers import MinuitProfiler\n",
    "\n",
    "# Seed used to decide on starting point\n",
    "profiler = MinuitProfiler(likelihood, seed=42)\n",
    "# Find best fit, starting from 5 different starting points\n",
    "# NOTE: With MPI, these runs are performed in parallel\n",
    "profiler.maximize(niterations=5)"
   ]
  },
  {
   "cell_type": "code",
   "execution_count": 5,
   "id": "5b9af343",
   "metadata": {},
   "outputs": [
    {
     "name": "stdout",
     "output_type": "stream",
     "text": [
      "+-------------+--------+---------+-------+\n",
      "| chi2 = 4.70 | varied | bestfit | error |\n",
      "+-------------+--------+---------+-------+\n",
      "|      a      |  True  |  -0.06  | 0.98  |\n",
      "|      b      |  True  |  0.48   | 0.58  |\n",
      "+-------------+--------+---------+-------+\n"
     ]
    }
   ],
   "source": [
    "print(profiler.profiles.to_stats(tablefmt='pretty'))"
   ]
  },
  {
   "cell_type": "code",
   "execution_count": 6,
   "id": "f06eb94f",
   "metadata": {},
   "outputs": [
    {
     "data": {
      "text/plain": [
       "array([<AxesSubplot:ylabel='a'>, <AxesSubplot:ylabel='b'>], dtype=object)"
      ]
     },
     "execution_count": 6,
     "metadata": {},
     "output_type": "execute_result"
    },
    {
     "data": {
      "image/png": "[encoded data removed]",
      "text/plain": [
       "<Figure size 360x432 with 2 Axes>"
      ]
     },
     "metadata": {
      "needs_background": "light"
     },
     "output_type": "display_data"
    }
   ],
   "source": [
    "from cosmofit.samples import plotting\n",
    "# Compare different best fits: all good, no convergence issues!\n",
    "plotting.plot_aligned_stacked(profiler.profiles, truths=[0., 0.])"
   ]
  },
  {
   "cell_type": "code",
   "execution_count": 7,
   "id": "eefe2a85",
   "metadata": {},
   "outputs": [
    {
     "name": "stdout",
     "output_type": "stream",
     "text": [
      "\\begin{tabular}{lllll}\n",
      "\\hline\n",
      " $\\chi^{2} = 4.70$   & varied   & bestfit   & error   & interval             \\\\\n",
      "\\hline\n",
      " a                   & True     & $-0.06$   & $0.98$  & ${}_{-0.98}^{+0.98}$ \\\\\n",
      " b                   & True     & $0.48$    & $0.58$  & ${}_{-0.58}^{+0.58}$ \\\\\n",
      "\\hline\n",
      "\\end{tabular}\n"
     ]
    }
   ],
   "source": [
    "# Compute \\Delta \\chi^{2} = cl^2 = 1 interval for the best best of above best fits\n",
    "profiler.interval(cl=1)\n",
    "print(profiler.profiles.to_stats(tablefmt='latex_raw'))"
   ]
  },
  {
   "cell_type": "code",
   "execution_count": 8,
   "id": "14b6e453",
   "metadata": {},
   "outputs": [
    {
     "data": {
      "image/png": "[encoded data removed]",
      "text/plain": [
       "<Figure size 864x288 with 2 Axes>"
      ]
     },
     "metadata": {
      "needs_background": "light"
     },
     "output_type": "display_data"
    }
   ],
   "source": [
    "# Profile posterior up to cl = 3 sigmas\n",
    "profiler.profile(cl=3)\n",
    "# And plot, removing \\chi^{2} at best fit\n",
    "plotting.plot_profile(profiler.profiles, offsets=-2 * profiler.profiles.bestfit.logposterior.max())"
   ]
  },
  {
   "cell_type": "markdown",
   "id": "4ee90913",
   "metadata": {},
   "source": [
    "## Analytic solver\n",
    "We can perform analytic marginalization over the parameters for which the model is linear."
   ]
  },
  {
   "cell_type": "code",
   "execution_count": 9,
   "id": "bf0fc2f0",
   "metadata": {},
   "outputs": [
    {
     "name": "stdout",
     "output_type": "stream",
     "text": [
      "[000003.62] [0/1] 09-01 16:49  LikelihoodPipeline        INFO     Found calculators [LikelihoodWithPlot(like), AffineModelWithGradient(model)].\n",
      "[000003.62] [0/1] 09-01 16:49  LikelihoodPipeline        INFO     Found end calculators [LikelihoodWithPlot(like)].\n",
      "[000003.63] [0/1] 09-01 16:49  LikelihoodPipeline        INFO     Found likelihood like.\n",
      "[000003.66] [0/1] 09-01 16:49  MinuitProfiler            INFO     Varied parameters: ['a'].\n"
     ]
    }
   ],
   "source": [
    "from matplotlib import pyplot as plt\n",
    "\n",
    "\n",
    "class AffineModelWithGradient(AffineModel):  # all calculators should inherit from BaseCalculator\n",
    "\n",
    "    def run(self, a=0., b=0.):\n",
    "        self.y = a * self.x + b  # simple, affine model\n",
    "        # Add gradient\n",
    "        gradient = {'a': self.x, 'b': np.ones_like(self.x)}\n",
    "        for param in self.runtime_info.solved_params:\n",
    "            self.runtime_info.gradient[param] = gradient[param.basename]\n",
    "\n",
    "class LikelihoodWithPlot(Likelihood):\n",
    "\n",
    "    # Just add a plotting routine\n",
    "    \n",
    "    def plot(self):\n",
    "        ax = plt.gca()\n",
    "        ax.errorbar(self.x, self.y, yerr=np.diag(self.covariance)**0.5, color='k', linestyle='none', marker='o', label='data')\n",
    "        ax.plot(self.x, self.theory.y, color='r', label='theory')\n",
    "        ax.grid()\n",
    "        ax.legend()\n",
    "        return ax\n",
    "\n",
    "config = {}\n",
    "# We give the likelihood a name, 'like'\n",
    "config['like'] = {'class': LikelihoodWithPlot}\n",
    "# Specify we want to analytical solve for parameter 'b'\n",
    "# 'solved' can be 'best' (fixed to best fit), 'marg' (analytic marginalization)\n",
    "# or 'auto', which will be 'best' in case of likelihood profiling, 'marg' in case of sampling\n",
    "config['model'] = {'class': AffineModelWithGradient, 'params': {'b': {'solved': 'auto'}}}\n",
    "\n",
    "likelihood = LikelihoodPipeline(config)\n",
    "profiler = MinuitProfiler(likelihood, seed=42)\n",
    "# Find best fit, starting from 5 different starting points\n",
    "# NOTE: With MPI, these runs are performed in parallel\n",
    "profiler.maximize(niterations=5)"
   ]
  },
  {
   "cell_type": "code",
   "execution_count": 10,
   "id": "d32c099d",
   "metadata": {},
   "outputs": [
    {
     "data": {
      "text/plain": [
       "array([<AxesSubplot:ylabel='a'>, <AxesSubplot:ylabel='b'>], dtype=object)"
      ]
     },
     "execution_count": 10,
     "metadata": {},
     "output_type": "execute_result"
    },
    {
     "data": {
      "image/png": "[encoded data removed]",
      "text/plain": [
       "<Figure size 360x432 with 2 Axes>"
      ]
     },
     "metadata": {
      "needs_background": "light"
     },
     "output_type": "display_data"
    }
   ],
   "source": [
    "from cosmofit.samples import plotting\n",
    "# Compare different best fits: all good, no convergence issues!\n",
    "plotting.plot_aligned_stacked(profiler.profiles, truths=[0., 0.])"
   ]
  },
  {
   "cell_type": "code",
   "execution_count": 11,
   "id": "360b0c27",
   "metadata": {},
   "outputs": [
    {
     "data": {
      "image/png": "[encoded data removed]",
      "text/plain": [
       "<Figure size 432x288 with 1 Axes>"
      ]
     },
     "metadata": {
      "needs_background": "light"
     },
     "output_type": "display_data"
    }
   ],
   "source": [
    "likelihood.run(**profiler.profiles.bestfit.choice(varied=True))\n",
    "likelihood.end_calculators[0].plot()\n",
    "plt.show()"
   ]
  },
  {
   "cell_type": "markdown",
   "id": "5ff6cbdc",
   "metadata": {},
   "source": [
    "## Sample\n",
    "Let us draw MC samples of the likelihood (actually posterior, including parameter priors)."
   ]
  },
  {
   "cell_type": "code",
   "execution_count": 12,
   "id": "07f5806e",
   "metadata": {},
   "outputs": [
    {
     "name": "stdout",
     "output_type": "stream",
     "text": [
      "[000004.56] [0/1] 09-01 16:49  LikelihoodPipeline        INFO     Found calculators [LikelihoodWithPlot(like), AffineModel(theory)].\n",
      "[000004.56] [0/1] 09-01 16:49  LikelihoodPipeline        INFO     Found end calculators [LikelihoodWithPlot(like)].\n",
      "[000004.56] [0/1] 09-01 16:49  LikelihoodPipeline        INFO     Found likelihood like.\n",
      "[000004.59] [0/1] 09-01 16:49  EmceeSampler              INFO     Varied parameters: ['a', 'b'].\n",
      "[000008.50] [0/1] 09-01 16:49  EmceeSampler              INFO     Diagnostics:\n",
      "[000008.51] [0/1] 09-01 16:49  EmceeSampler              INFO     - max eigen Gelman-Rubin - 1 is 0.219 > 0.03.\n",
      "[000008.52] [0/1] 09-01 16:49  EmceeSampler              INFO     - max diag Gelman-Rubin - 1 is 0.166.\n",
      "[000008.54] [0/1] 09-01 16:49  EmceeSampler              INFO     - max diag Gelman-Rubin - 1 at 1.0 sigmas is 0.18.\n",
      "[000008.55] [0/1] 09-01 16:49  EmceeSampler              INFO     - max Geweke is 0.224.\n",
      "[000008.56] [0/1] 09-01 16:49  EmceeSampler              INFO     - max integrated autocorrelation time is 13.1.\n",
      "[000012.44] [0/1] 09-01 16:50  EmceeSampler              INFO     Diagnostics:\n",
      "[000012.45] [0/1] 09-01 16:50  EmceeSampler              INFO     - max eigen Gelman-Rubin - 1 is 0.178 > 0.03.\n",
      "[000012.45] [0/1] 09-01 16:50  EmceeSampler              INFO     - max diag Gelman-Rubin - 1 is 0.172.\n",
      "[000012.48] [0/1] 09-01 16:50  EmceeSampler              INFO     - max diag Gelman-Rubin - 1 at 1.0 sigmas is 0.0663.\n",
      "[000012.49] [0/1] 09-01 16:50  EmceeSampler              INFO     - max Geweke is 0.499.\n",
      "[000012.50] [0/1] 09-01 16:50  EmceeSampler              INFO     - max integrated autocorrelation time is 15.9.\n",
      "[000012.50] [0/1] 09-01 16:50  EmceeSampler              INFO     - max variation of integrated autocorrelation time is 0.174.\n",
      "[000016.00] [0/1] 09-01 16:50  EmceeSampler              INFO     Diagnostics:\n",
      "[000016.01] [0/1] 09-01 16:50  EmceeSampler              INFO     - max eigen Gelman-Rubin - 1 is 0.0908 > 0.03.\n",
      "[000016.02] [0/1] 09-01 16:50  EmceeSampler              INFO     - max diag Gelman-Rubin - 1 is 0.0921.\n",
      "[000016.04] [0/1] 09-01 16:50  EmceeSampler              INFO     - max diag Gelman-Rubin - 1 at 1.0 sigmas is 0.0702.\n",
      "[000016.05] [0/1] 09-01 16:50  EmceeSampler              INFO     - max Geweke is 0.667.\n",
      "[000016.06] [0/1] 09-01 16:50  EmceeSampler              INFO     - max integrated autocorrelation time is 19.1.\n",
      "[000016.06] [0/1] 09-01 16:50  EmceeSampler              INFO     - max variation of integrated autocorrelation time is 0.191.\n",
      "[000019.74] [0/1] 09-01 16:50  EmceeSampler              INFO     Diagnostics:\n",
      "[000019.75] [0/1] 09-01 16:50  EmceeSampler              INFO     - max eigen Gelman-Rubin - 1 is 0.0498 > 0.03.\n",
      "[000019.76] [0/1] 09-01 16:50  EmceeSampler              INFO     - max diag Gelman-Rubin - 1 is 0.0497.\n",
      "[000019.79] [0/1] 09-01 16:50  EmceeSampler              INFO     - max diag Gelman-Rubin - 1 at 1.0 sigmas is 0.0231.\n",
      "[000019.79] [0/1] 09-01 16:50  EmceeSampler              INFO     - max Geweke is 0.35.\n",
      "[000019.80] [0/1] 09-01 16:50  EmceeSampler              INFO     - max integrated autocorrelation time is 23.1.\n",
      "[000019.80] [0/1] 09-01 16:50  EmceeSampler              INFO     - max variation of integrated autocorrelation time is 0.173.\n",
      "[000023.83] [0/1] 09-01 16:50  EmceeSampler              INFO     Diagnostics:\n",
      "[000023.84] [0/1] 09-01 16:50  EmceeSampler              INFO     - max eigen Gelman-Rubin - 1 is 0.0452 > 0.03.\n",
      "[000023.86] [0/1] 09-01 16:50  EmceeSampler              INFO     - max diag Gelman-Rubin - 1 is 0.0372.\n",
      "[000023.89] [0/1] 09-01 16:50  EmceeSampler              INFO     - max diag Gelman-Rubin - 1 at 1.0 sigmas is 0.0414.\n",
      "[000023.90] [0/1] 09-01 16:50  EmceeSampler              INFO     - max Geweke is 0.518.\n",
      "[000023.91] [0/1] 09-01 16:50  EmceeSampler              INFO     - max integrated autocorrelation time is 25.3.\n",
      "[000023.91] [0/1] 09-01 16:50  EmceeSampler              INFO     - max variation of integrated autocorrelation time is 0.119.\n",
      "[000027.53] [0/1] 09-01 16:50  EmceeSampler              INFO     Diagnostics:\n",
      "[000027.53] [0/1] 09-01 16:50  EmceeSampler              INFO     - max eigen Gelman-Rubin - 1 is 0.023 < 0.03.\n",
      "[000027.54] [0/1] 09-01 16:50  EmceeSampler              INFO     - max diag Gelman-Rubin - 1 is 0.0236.\n",
      "[000027.57] [0/1] 09-01 16:50  EmceeSampler              INFO     - max diag Gelman-Rubin - 1 at 1.0 sigmas is 0.0327.\n",
      "[000027.57] [0/1] 09-01 16:50  EmceeSampler              INFO     - max Geweke is 0.58.\n",
      "[000027.58] [0/1] 09-01 16:50  EmceeSampler              INFO     - max integrated autocorrelation time is 25.3.\n",
      "[000027.58] [0/1] 09-01 16:50  EmceeSampler              INFO     - max variation of integrated autocorrelation time is 0.0908.\n",
      "[000031.15] [0/1] 09-01 16:50  EmceeSampler              INFO     Diagnostics:\n",
      "[000031.16] [0/1] 09-01 16:50  EmceeSampler              INFO     - max eigen Gelman-Rubin - 1 is 0.0243 < 0.03.\n",
      "[000031.17] [0/1] 09-01 16:50  EmceeSampler              INFO     - max diag Gelman-Rubin - 1 is 0.0246.\n",
      "[000031.21] [0/1] 09-01 16:50  EmceeSampler              INFO     - max diag Gelman-Rubin - 1 at 1.0 sigmas is 0.0251.\n",
      "[000031.21] [0/1] 09-01 16:50  EmceeSampler              INFO     - max Geweke is 0.44.\n",
      "[000031.23] [0/1] 09-01 16:50  EmceeSampler              INFO     - max integrated autocorrelation time is 25.5 (reliable).\n",
      "[000031.23] [0/1] 09-01 16:50  EmceeSampler              INFO     - max variation of integrated autocorrelation time is 0.0426.\n"
     ]
    }
   ],
   "source": [
    "from cosmofit.samplers import EmceeSampler\n",
    "\n",
    "config = {}\n",
    "# We give the likelihood a name, 'like'\n",
    "config['like'] = {'class': LikelihoodWithPlot}\n",
    "\n",
    "likelihood = LikelihoodPipeline(config)\n",
    "\n",
    "# By default are running 1 chain\n",
    "# We can as for me, e.g. chains=2\n",
    "# MPI processes will be evenly split across all the chains\n",
    "sampler = EmceeSampler(likelihood, seed=42, nwalkers=10)\n",
    "# We run samples until convergence, considered reached when Gelman-Rubin (computed over 4 chain subsamples) stabilizes < 0.03; \n",
    "converged = False\n",
    "while not converged:\n",
    "    sampler.run()\n",
    "    converged = sampler.check(eigen_gr_stop=0.03)"
   ]
  },
  {
   "cell_type": "code",
   "execution_count": 13,
   "id": "151eb7f8",
   "metadata": {},
   "outputs": [
    {
     "name": "stdout",
     "output_type": "stream",
     "text": [
      "+---+--------+------+--------+------+-----------------+-----------------+\n",
      "|   | argmax | mean | median | std  | quantile:1sigma | interval:1sigma |\n",
      "+---+--------+------+--------+------+-----------------+-----------------+\n",
      "| a |  0.0   | -0.2 |  -0.1  | 1.2  |   -0.94/+1.06   |   -0.95/+1.04   |\n",
      "| b |  0.46  | 0.53 |  0.51  | 0.88 |   -0.59/+0.58   |   -0.67/+0.50   |\n",
      "+---+--------+------+--------+------+-----------------+-----------------+\n"
     ]
    }
   ],
   "source": [
    "# Let's remove burnin and get basic stats\n",
    "chain = sampler.chains[0].remove_burnin(0.5)\n",
    "print(chain.to_stats(tablefmt='pretty'))"
   ]
  },
  {
   "cell_type": "code",
   "execution_count": 14,
   "id": "1fba7540",
   "metadata": {},
   "outputs": [
    {
     "name": "stdout",
     "output_type": "stream",
     "text": [
      "[000031.43] [0/1] 09-01 16:50  numexpr.utils             INFO     NumExpr defaulting to 8 threads.\n",
      "Removed no burn in\n",
      "[000031.80] [0/1] 09-01 16:50  root                      WARNING  fine_bins_2D not large enough for optimal density: a, b\n"
     ]
    },
    {
     "data": {
      "image/png": "[encoded data removed]",
      "text/plain": [
       "<Figure size 288x288 with 3 Axes>"
      ]
     },
     "metadata": {
      "needs_background": "light"
     },
     "output_type": "display_data"
    }
   ],
   "source": [
    "# This actually uses GetDist\n",
    "# chain.to_getdist() will return a getdist.MCSamples object to play further\n",
    "plotting.plot_triangle(chain)"
   ]
  },
  {
   "cell_type": "markdown",
   "id": "40ab8085",
   "metadata": {},
   "source": [
    "## Emulate\n",
    "If our model took years to run, we would likely want to emulate it. Let us try this on this simple model."
   ]
  },
  {
   "cell_type": "code",
   "execution_count": 15,
   "id": "ef859831",
   "metadata": {},
   "outputs": [
    {
     "name": "stdout",
     "output_type": "stream",
     "text": [
      "[000032.28] [0/1] 09-01 16:50  TaylorEmulatorEngine      INFO     Varied parameters: ['a', 'b'].\n",
      "[000032.28] [0/1] 09-01 16:50  TaylorEmulatorEngine      INFO     Found varying ['y'] and fixed ['x'] outputs.\n",
      "[000032.30] [0/1] 09-01 16:50  TaylorEmulatorEngine      INFO     Diagnostics:\n",
      "[000032.30] [0/1] 09-01 16:50  TaylorEmulatorEngine      INFO     - mse of y is 1.02e-35 (square root = 3.2e-18).\n"
     ]
    },
    {
     "data": {
      "text/plain": [
       "array([<AxesSubplot:ylabel='y'>, <AxesSubplot:ylabel='$\\\\Delta$ y'>],\n",
       "      dtype=object)"
      ]
     },
     "execution_count": 15,
     "metadata": {},
     "output_type": "execute_result"
    },
    {
     "data": {
      "image/png": "[encoded data removed]",
      "text/plain": [
       "<Figure size 432x432 with 2 Axes>"
      ]
     },
     "metadata": {
      "needs_background": "light"
     },
     "output_type": "display_data"
    }
   ],
   "source": [
    "from cosmofit.base import BasePipeline\n",
    "from cosmofit.emulators import TaylorEmulatorEngine\n",
    "\n",
    "# We stop the pipeline to the calculator we want to emulate, i.e. theory (AffineModel)\n",
    "pipeline = likelihood.select('theory', type=BasePipeline)\n",
    "# Let us perform a Taylor expansion of order 1\n",
    "# Attributes of AffineModel instance, obtained through theory.__getstate__()\n",
    "# are automatically split between varied and fixed categories\n",
    "emulator = TaylorEmulatorEngine(pipeline, order=1)\n",
    "emulator.set_samples()\n",
    "emulator.fit()\n",
    "emulator.check()  # since model is linear, non-zero mse is just due to numerical noise\n",
    "emulator.plot()  # plot some theory.y samples, and the difference emulator - model at the bottom; all good!"
   ]
  },
  {
   "cell_type": "code",
   "execution_count": 16,
   "id": "a23a25b0",
   "metadata": {},
   "outputs": [
    {
     "name": "stdout",
     "output_type": "stream",
     "text": [
      "[000032.52] [0/1] 09-01 16:50  TaylorEmulatorEngine      INFO     Saving _tests/emulator.npy.\n",
      "[000032.52] [0/1] 09-01 16:50  TaylorEmulatorEngine      INFO     Saving _tests/emulator.yaml.\n"
     ]
    }
   ],
   "source": [
    "# No dump the emulator to disk\n",
    "import os\n",
    "\n",
    "base_dir = '_tests'\n",
    "fn = os.path.join(base_dir, 'emulator.npy')\n",
    "emulator.save(fn)"
   ]
  },
  {
   "cell_type": "code",
   "execution_count": 17,
   "id": "c29866ff",
   "metadata": {},
   "outputs": [
    {
     "name": "stdout",
     "output_type": "stream",
     "text": [
      "class: AffineModel\n",
      "info: {}\n",
      "init:\n",
      "  x: [0.0, 0.1111111111111111, 0.2222222222222222, 0.3333333333333333, 0.4444444444444444,\n",
      "    0.5555555555555556, 0.6666666666666666, 0.7777777777777777, 0.8888888888888888,\n",
      "    1.0]\n",
      "params:\n",
      "  a:\n",
      "    derived: false\n",
      "    fixed: false\n",
      "    latex: None\n",
      "    prior:\n",
      "      dist: norm\n",
      "      limits: [-.inf, .inf]\n",
      "      loc: 0.0\n",
      "      scale: 10.0\n",
      "    proposal: 10.0\n",
      "    ref:\n",
      "      dist: norm\n",
      "      limits: [-.inf, .inf]\n",
      "      loc: 0.0\n",
      "      scale: 10.0\n",
      "    solved: false\n",
      "    value: 0.0\n",
      "  b:\n",
      "    derived: false\n",
      "    fixed: false\n",
      "    latex: None\n",
      "    prior:\n",
      "      dist: norm\n",
      "      limits: [-.inf, .inf]\n",
      "      loc: 0.0\n",
      "      scale: 10.0\n",
      "    proposal: 10.0\n",
      "    ref:\n",
      "      dist: norm\n",
      "      limits: [-.inf, .inf]\n",
      "      loc: 0.0\n",
      "      scale: 10.0\n",
      "    solved: false\n",
      "    value: 0.0\n",
      "\n"
     ]
    }
   ],
   "source": [
    "# A yaml file is exported, which helps recollect the parameters of the emulator\n",
    "# The parameters that have been varied should be specified when using this emulator,\n",
    "# other parameters (fixed) can be removed if necessary\n",
    "with open(fn.replace('.npy', '.yaml')) as file:\n",
    "    print(file.read())"
   ]
  },
  {
   "cell_type": "code",
   "execution_count": 18,
   "id": "f589de3f",
   "metadata": {},
   "outputs": [
    {
     "name": "stdout",
     "output_type": "stream",
     "text": [
      "[000032.54] [0/1] 09-01 16:50  AffineModel               INFO     Loading _tests/emulator.npy.\n",
      "[000032.55] [0/1] 09-01 16:50  PipelineConfig            INFO     Loading config file _tests/emulator.yaml\n",
      "[000032.58] [0/1] 09-01 16:50  LikelihoodPipeline        INFO     Found calculators [Likelihood(like), AffineModel(theory)].\n",
      "[000032.58] [0/1] 09-01 16:50  LikelihoodPipeline        INFO     Found end calculators [Likelihood(like)].\n",
      "[000032.58] [0/1] 09-01 16:50  LikelihoodPipeline        INFO     Found likelihood like.\n"
     ]
    }
   ],
   "source": [
    "# Now let us load our emulator into the pipeline\n",
    "config = {}\n",
    "config['like'] = {'class': Likelihood}\n",
    "config['theory'] = {'class': 'AffineModel', 'load': fn}\n",
    "likelihood = LikelihoodPipeline(config)"
   ]
  },
  {
   "cell_type": "code",
   "execution_count": 19,
   "id": "d884a7c3",
   "metadata": {},
   "outputs": [
    {
     "name": "stdout",
     "output_type": "stream",
     "text": [
      "[000032.61] [0/1] 09-01 16:50  MinuitProfiler            INFO     Varied parameters: ['a', 'b'].\n"
     ]
    },
    {
     "data": {
      "text/plain": [
       "array([<AxesSubplot:ylabel='a'>, <AxesSubplot:ylabel='b'>], dtype=object)"
      ]
     },
     "execution_count": 19,
     "metadata": {},
     "output_type": "execute_result"
    },
    {
     "data": {
      "image/png": "[encoded data removed]",
      "text/plain": [
       "<Figure size 144x432 with 2 Axes>"
      ]
     },
     "metadata": {
      "needs_background": "light"
     },
     "output_type": "display_data"
    }
   ],
   "source": [
    "from cosmofit.profilers import MinuitProfiler\n",
    "\n",
    "profiler2 = MinuitProfiler(likelihood, seed=42)\n",
    "profiler2.maximize(niterations=5)\n",
    "plotting.plot_aligned_stacked([profiler2.profiles, profiler.profiles], truths=True)  # truths=True will get parameter values\n",
    "# Fits with the emulator and the model are the same, all good!"
   ]
  }
 ],
 "metadata": {
  "kernelspec": {
   "display_name": "cosmodesi",
   "language": "python",
   "name": "cosmodesi"
  },
  "language_info": {
   "codemirror_mode": {
    "name": "ipython",
    "version": 3
   },
   "file_extension": ".py",
   "mimetype": "text/x-python",
   "name": "python",
   "nbconvert_exporter": "python",
   "pygments_lexer": "ipython3",
   "version": "3.9.12"
  }
 },
 "nbformat": 4,
 "nbformat_minor": 5
}
